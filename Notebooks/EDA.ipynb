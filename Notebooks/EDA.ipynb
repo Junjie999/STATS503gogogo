{
 "cells": [
  {
   "attachments": {},
   "cell_type": "markdown",
   "metadata": {},
   "source": [
    "### Reading the data\n",
    "\n",
    "The new data set is too large for uploading to Github (200+ Mb). Therefore I upload zip and read from zip"
   ]
  },
  {
   "cell_type": "code",
   "execution_count": 12,
   "metadata": {},
   "outputs": [],
   "source": [
    "import pandas as pd\n",
    "import zipfile\n",
    "\n",
    "import matplotlib.pyplot as plt\n",
    "import seaborn as sns"
   ]
  },
  {
   "cell_type": "code",
   "execution_count": 2,
   "metadata": {},
   "outputs": [],
   "source": [
    "zf = zipfile.ZipFile('../Data/Base.csv.zip') \n",
    "df = pd.read_csv(zf.open('Base.csv'))"
   ]
  },
  {
   "attachments": {},
   "cell_type": "markdown",
   "metadata": {},
   "source": [
    "### Explore and clean the data\n",
    "\n",
    "This data is a large and relatively clean one, there is not a lot of things to do."
   ]
  },
  {
   "cell_type": "code",
   "execution_count": 3,
   "metadata": {},
   "outputs": [
    {
     "data": {
      "text/plain": [
       "(1000000, 32)"
      ]
     },
     "execution_count": 3,
     "metadata": {},
     "output_type": "execute_result"
    }
   ],
   "source": [
    "df.shape"
   ]
  },
  {
   "cell_type": "code",
   "execution_count": 15,
   "metadata": {},
   "outputs": [
    {
     "data": {
      "text/html": [
       "<div>\n",
       "<style scoped>\n",
       "    .dataframe tbody tr th:only-of-type {\n",
       "        vertical-align: middle;\n",
       "    }\n",
       "\n",
       "    .dataframe tbody tr th {\n",
       "        vertical-align: top;\n",
       "    }\n",
       "\n",
       "    .dataframe thead th {\n",
       "        text-align: right;\n",
       "    }\n",
       "</style>\n",
       "<table border=\"1\" class=\"dataframe\">\n",
       "  <thead>\n",
       "    <tr style=\"text-align: right;\">\n",
       "      <th></th>\n",
       "      <th>fraud_bool</th>\n",
       "      <th>income</th>\n",
       "      <th>name_email_similarity</th>\n",
       "      <th>prev_address_months_count</th>\n",
       "      <th>current_address_months_count</th>\n",
       "      <th>customer_age</th>\n",
       "      <th>days_since_request</th>\n",
       "      <th>intended_balcon_amount</th>\n",
       "      <th>zip_count_4w</th>\n",
       "      <th>velocity_6h</th>\n",
       "      <th>...</th>\n",
       "      <th>phone_home_valid</th>\n",
       "      <th>phone_mobile_valid</th>\n",
       "      <th>bank_months_count</th>\n",
       "      <th>has_other_cards</th>\n",
       "      <th>proposed_credit_limit</th>\n",
       "      <th>foreign_request</th>\n",
       "      <th>session_length_in_minutes</th>\n",
       "      <th>keep_alive_session</th>\n",
       "      <th>device_distinct_emails_8w</th>\n",
       "      <th>month</th>\n",
       "    </tr>\n",
       "  </thead>\n",
       "  <tbody>\n",
       "    <tr>\n",
       "      <th>count</th>\n",
       "      <td>746365.000000</td>\n",
       "      <td>746365.000000</td>\n",
       "      <td>746365.000000</td>\n",
       "      <td>746365.000000</td>\n",
       "      <td>746365.000000</td>\n",
       "      <td>746365.000000</td>\n",
       "      <td>7.463650e+05</td>\n",
       "      <td>746365.000000</td>\n",
       "      <td>746365.000000</td>\n",
       "      <td>746365.000000</td>\n",
       "      <td>...</td>\n",
       "      <td>746365.000000</td>\n",
       "      <td>746365.000000</td>\n",
       "      <td>746365.000000</td>\n",
       "      <td>746365.000000</td>\n",
       "      <td>746365.000000</td>\n",
       "      <td>746365.000000</td>\n",
       "      <td>746365.000000</td>\n",
       "      <td>746365.000000</td>\n",
       "      <td>746365.000000</td>\n",
       "      <td>746365.000000</td>\n",
       "    </tr>\n",
       "    <tr>\n",
       "      <th>mean</th>\n",
       "      <td>0.009230</td>\n",
       "      <td>0.569965</td>\n",
       "      <td>0.491877</td>\n",
       "      <td>15.022553</td>\n",
       "      <td>89.358749</td>\n",
       "      <td>33.817127</td>\n",
       "      <td>7.392632e-01</td>\n",
       "      <td>11.709199</td>\n",
       "      <td>1588.422520</td>\n",
       "      <td>5714.878185</td>\n",
       "      <td>...</td>\n",
       "      <td>0.436411</td>\n",
       "      <td>0.894771</td>\n",
       "      <td>14.862618</td>\n",
       "      <td>0.236096</td>\n",
       "      <td>526.775170</td>\n",
       "      <td>0.026730</td>\n",
       "      <td>7.475012</td>\n",
       "      <td>0.581054</td>\n",
       "      <td>1.017763</td>\n",
       "      <td>3.238787</td>\n",
       "    </tr>\n",
       "    <tr>\n",
       "      <th>std</th>\n",
       "      <td>0.095629</td>\n",
       "      <td>0.288377</td>\n",
       "      <td>0.293565</td>\n",
       "      <td>41.993538</td>\n",
       "      <td>89.522997</td>\n",
       "      <td>12.123909</td>\n",
       "      <td>4.067651e+00</td>\n",
       "      <td>22.311299</td>\n",
       "      <td>1021.923527</td>\n",
       "      <td>3070.753408</td>\n",
       "      <td>...</td>\n",
       "      <td>0.495940</td>\n",
       "      <td>0.306848</td>\n",
       "      <td>11.527847</td>\n",
       "      <td>0.424682</td>\n",
       "      <td>494.098534</td>\n",
       "      <td>0.161292</td>\n",
       "      <td>7.894665</td>\n",
       "      <td>0.493387</td>\n",
       "      <td>0.160692</td>\n",
       "      <td>2.242126</td>\n",
       "    </tr>\n",
       "    <tr>\n",
       "      <th>min</th>\n",
       "      <td>0.000000</td>\n",
       "      <td>0.100000</td>\n",
       "      <td>0.000001</td>\n",
       "      <td>-1.000000</td>\n",
       "      <td>-1.000000</td>\n",
       "      <td>10.000000</td>\n",
       "      <td>4.036860e-09</td>\n",
       "      <td>-15.530555</td>\n",
       "      <td>1.000000</td>\n",
       "      <td>-170.603072</td>\n",
       "      <td>...</td>\n",
       "      <td>0.000000</td>\n",
       "      <td>0.000000</td>\n",
       "      <td>1.000000</td>\n",
       "      <td>0.000000</td>\n",
       "      <td>190.000000</td>\n",
       "      <td>0.000000</td>\n",
       "      <td>-1.000000</td>\n",
       "      <td>0.000000</td>\n",
       "      <td>-1.000000</td>\n",
       "      <td>0.000000</td>\n",
       "    </tr>\n",
       "    <tr>\n",
       "      <th>25%</th>\n",
       "      <td>0.000000</td>\n",
       "      <td>0.300000</td>\n",
       "      <td>0.209799</td>\n",
       "      <td>-1.000000</td>\n",
       "      <td>22.000000</td>\n",
       "      <td>20.000000</td>\n",
       "      <td>7.366963e-03</td>\n",
       "      <td>-1.140740</td>\n",
       "      <td>905.000000</td>\n",
       "      <td>3427.304020</td>\n",
       "      <td>...</td>\n",
       "      <td>0.000000</td>\n",
       "      <td>1.000000</td>\n",
       "      <td>1.000000</td>\n",
       "      <td>0.000000</td>\n",
       "      <td>200.000000</td>\n",
       "      <td>0.000000</td>\n",
       "      <td>3.127926</td>\n",
       "      <td>0.000000</td>\n",
       "      <td>1.000000</td>\n",
       "      <td>1.000000</td>\n",
       "    </tr>\n",
       "    <tr>\n",
       "      <th>50%</th>\n",
       "      <td>0.000000</td>\n",
       "      <td>0.600000</td>\n",
       "      <td>0.499232</td>\n",
       "      <td>-1.000000</td>\n",
       "      <td>54.000000</td>\n",
       "      <td>30.000000</td>\n",
       "      <td>1.540309e-02</td>\n",
       "      <td>-0.736193</td>\n",
       "      <td>1265.000000</td>\n",
       "      <td>5352.884294</td>\n",
       "      <td>...</td>\n",
       "      <td>0.000000</td>\n",
       "      <td>1.000000</td>\n",
       "      <td>15.000000</td>\n",
       "      <td>0.000000</td>\n",
       "      <td>200.000000</td>\n",
       "      <td>0.000000</td>\n",
       "      <td>5.060577</td>\n",
       "      <td>1.000000</td>\n",
       "      <td>1.000000</td>\n",
       "      <td>3.000000</td>\n",
       "    </tr>\n",
       "    <tr>\n",
       "      <th>75%</th>\n",
       "      <td>0.000000</td>\n",
       "      <td>0.800000</td>\n",
       "      <td>0.758219</td>\n",
       "      <td>10.000000</td>\n",
       "      <td>137.000000</td>\n",
       "      <td>40.000000</td>\n",
       "      <td>2.611581e-02</td>\n",
       "      <td>21.036317</td>\n",
       "      <td>1941.000000</td>\n",
       "      <td>7811.964112</td>\n",
       "      <td>...</td>\n",
       "      <td>1.000000</td>\n",
       "      <td>1.000000</td>\n",
       "      <td>28.000000</td>\n",
       "      <td>0.000000</td>\n",
       "      <td>510.000000</td>\n",
       "      <td>0.000000</td>\n",
       "      <td>8.793082</td>\n",
       "      <td>1.000000</td>\n",
       "      <td>1.000000</td>\n",
       "      <td>5.000000</td>\n",
       "    </tr>\n",
       "    <tr>\n",
       "      <th>max</th>\n",
       "      <td>1.000000</td>\n",
       "      <td>0.900000</td>\n",
       "      <td>0.999999</td>\n",
       "      <td>383.000000</td>\n",
       "      <td>428.000000</td>\n",
       "      <td>90.000000</td>\n",
       "      <td>7.657727e+01</td>\n",
       "      <td>112.956928</td>\n",
       "      <td>6700.000000</td>\n",
       "      <td>16715.565404</td>\n",
       "      <td>...</td>\n",
       "      <td>1.000000</td>\n",
       "      <td>1.000000</td>\n",
       "      <td>32.000000</td>\n",
       "      <td>1.000000</td>\n",
       "      <td>2100.000000</td>\n",
       "      <td>1.000000</td>\n",
       "      <td>85.899143</td>\n",
       "      <td>1.000000</td>\n",
       "      <td>2.000000</td>\n",
       "      <td>7.000000</td>\n",
       "    </tr>\n",
       "  </tbody>\n",
       "</table>\n",
       "<p>8 rows × 26 columns</p>\n",
       "</div>"
      ],
      "text/plain": [
       "          fraud_bool         income  name_email_similarity  \\\n",
       "count  746365.000000  746365.000000          746365.000000   \n",
       "mean        0.009230       0.569965               0.491877   \n",
       "std         0.095629       0.288377               0.293565   \n",
       "min         0.000000       0.100000               0.000001   \n",
       "25%         0.000000       0.300000               0.209799   \n",
       "50%         0.000000       0.600000               0.499232   \n",
       "75%         0.000000       0.800000               0.758219   \n",
       "max         1.000000       0.900000               0.999999   \n",
       "\n",
       "       prev_address_months_count  current_address_months_count   customer_age  \\\n",
       "count              746365.000000                 746365.000000  746365.000000   \n",
       "mean                   15.022553                     89.358749      33.817127   \n",
       "std                    41.993538                     89.522997      12.123909   \n",
       "min                    -1.000000                     -1.000000      10.000000   \n",
       "25%                    -1.000000                     22.000000      20.000000   \n",
       "50%                    -1.000000                     54.000000      30.000000   \n",
       "75%                    10.000000                    137.000000      40.000000   \n",
       "max                   383.000000                    428.000000      90.000000   \n",
       "\n",
       "       days_since_request  intended_balcon_amount   zip_count_4w  \\\n",
       "count        7.463650e+05           746365.000000  746365.000000   \n",
       "mean         7.392632e-01               11.709199    1588.422520   \n",
       "std          4.067651e+00               22.311299    1021.923527   \n",
       "min          4.036860e-09              -15.530555       1.000000   \n",
       "25%          7.366963e-03               -1.140740     905.000000   \n",
       "50%          1.540309e-02               -0.736193    1265.000000   \n",
       "75%          2.611581e-02               21.036317    1941.000000   \n",
       "max          7.657727e+01              112.956928    6700.000000   \n",
       "\n",
       "         velocity_6h  ...  phone_home_valid  phone_mobile_valid  \\\n",
       "count  746365.000000  ...     746365.000000       746365.000000   \n",
       "mean     5714.878185  ...          0.436411            0.894771   \n",
       "std      3070.753408  ...          0.495940            0.306848   \n",
       "min      -170.603072  ...          0.000000            0.000000   \n",
       "25%      3427.304020  ...          0.000000            1.000000   \n",
       "50%      5352.884294  ...          0.000000            1.000000   \n",
       "75%      7811.964112  ...          1.000000            1.000000   \n",
       "max     16715.565404  ...          1.000000            1.000000   \n",
       "\n",
       "       bank_months_count  has_other_cards  proposed_credit_limit  \\\n",
       "count      746365.000000    746365.000000          746365.000000   \n",
       "mean           14.862618         0.236096             526.775170   \n",
       "std            11.527847         0.424682             494.098534   \n",
       "min             1.000000         0.000000             190.000000   \n",
       "25%             1.000000         0.000000             200.000000   \n",
       "50%            15.000000         0.000000             200.000000   \n",
       "75%            28.000000         0.000000             510.000000   \n",
       "max            32.000000         1.000000            2100.000000   \n",
       "\n",
       "       foreign_request  session_length_in_minutes  keep_alive_session  \\\n",
       "count    746365.000000              746365.000000       746365.000000   \n",
       "mean          0.026730                   7.475012            0.581054   \n",
       "std           0.161292                   7.894665            0.493387   \n",
       "min           0.000000                  -1.000000            0.000000   \n",
       "25%           0.000000                   3.127926            0.000000   \n",
       "50%           0.000000                   5.060577            1.000000   \n",
       "75%           0.000000                   8.793082            1.000000   \n",
       "max           1.000000                  85.899143            1.000000   \n",
       "\n",
       "       device_distinct_emails_8w          month  \n",
       "count              746365.000000  746365.000000  \n",
       "mean                    1.017763       3.238787  \n",
       "std                     0.160692       2.242126  \n",
       "min                    -1.000000       0.000000  \n",
       "25%                     1.000000       1.000000  \n",
       "50%                     1.000000       3.000000  \n",
       "75%                     1.000000       5.000000  \n",
       "max                     2.000000       7.000000  \n",
       "\n",
       "[8 rows x 26 columns]"
      ]
     },
     "execution_count": 15,
     "metadata": {},
     "output_type": "execute_result"
    }
   ],
   "source": [
    "df.describe()"
   ]
  },
  {
   "attachments": {},
   "cell_type": "markdown",
   "metadata": {},
   "source": [
    "The binary distribution of fraud is unproportional, need to pay more attention when constructing the train test split"
   ]
  },
  {
   "cell_type": "code",
   "execution_count": 5,
   "metadata": {},
   "outputs": [
    {
     "data": {
      "text/plain": [
       "0    988971\n",
       "1     11029\n",
       "Name: fraud_bool, dtype: int64"
      ]
     },
     "execution_count": 5,
     "metadata": {},
     "output_type": "execute_result"
    }
   ],
   "source": [
    "df['fraud_bool'].value_counts()"
   ]
  },
  {
   "attachments": {},
   "cell_type": "markdown",
   "metadata": {},
   "source": [
    "The column __device_fraud_count__ is useless, and therefore drop it."
   ]
  },
  {
   "cell_type": "code",
   "execution_count": 6,
   "metadata": {},
   "outputs": [],
   "source": [
    "df = df.drop(['device_fraud_count'], axis=1) "
   ]
  },
  {
   "attachments": {},
   "cell_type": "markdown",
   "metadata": {},
   "source": [
    "Metadata explicitly states that three columns, __prev_address_months_count__, __current_address_months_count__, and __bank_months_count__ will take an value of -1 if missing.\n",
    "\n",
    "There are a few other colums for which -1 are presented but the meaning of -1 is not explicitly stated.\n",
    "\n",
    "Further examination is needed to determine what to do with them."
   ]
  },
  {
   "attachments": {},
   "cell_type": "markdown",
   "metadata": {},
   "source": [
    "__prev_address_months_count__ does not shown to contain much information, it should be droped for convinence."
   ]
  },
  {
   "cell_type": "code",
   "execution_count": 7,
   "metadata": {},
   "outputs": [
    {
     "data": {
      "image/png": "[encoded data removed]",
      "text/plain": [
       "<Figure size 432x288 with 1 Axes>"
      ]
     },
     "metadata": {
      "needs_background": "light"
     },
     "output_type": "display_data"
    }
   ],
   "source": [
    "_ = plt.hist(df.prev_address_months_count)"
   ]
  },
  {
   "attachments": {},
   "cell_type": "markdown",
   "metadata": {},
   "source": [
    "No row of __current_address_months_count__ is taking value -1, therefore do nothing."
   ]
  },
  {
   "cell_type": "code",
   "execution_count": 8,
   "metadata": {},
   "outputs": [
    {
     "data": {
      "text/plain": [
       "6      16376\n",
       "7      16270\n",
       "8      16089\n",
       "5      15896\n",
       "9      15688\n",
       "       ...  \n",
       "403        1\n",
       "428        1\n",
       "413        1\n",
       "414        1\n",
       "409        1\n",
       "Name: current_address_months_count, Length: 423, dtype: int64"
      ]
     },
     "execution_count": 8,
     "metadata": {},
     "output_type": "execute_result"
    }
   ],
   "source": [
    "df.current_address_months_count.value_counts()"
   ]
  },
  {
   "attachments": {},
   "cell_type": "markdown",
   "metadata": {},
   "source": [
    "__bank_months_count__ seems to contain a lot of useful informations. However, 1/4 of data is missing.\n",
    "\n",
    "For simplicity, will just drop them for now. Later on, can try interpolate, etc."
   ]
  },
  {
   "cell_type": "code",
   "execution_count": 9,
   "metadata": {},
   "outputs": [
    {
     "data": {
      "image/png": "[encoded data removed]",
      "text/plain": [
       "<Figure size 432x288 with 1 Axes>"
      ]
     },
     "metadata": {
      "needs_background": "light"
     },
     "output_type": "display_data"
    }
   ],
   "source": [
    "_ = plt.hist(df.bank_months_count)"
   ]
  },
  {
   "cell_type": "code",
   "execution_count": 10,
   "metadata": {},
   "outputs": [
    {
     "data": {
      "text/plain": [
       "-1     253635\n",
       " 1     194802\n",
       " 28     80082\n",
       " 15     59141\n",
       " 30     50777\n",
       " 31     46084\n",
       " 25     40450\n",
       " 10     37158\n",
       " 20     30850\n",
       " 21     29098\n",
       " 5      28001\n",
       " 2      25836\n",
       " 26     24779\n",
       " 11     23745\n",
       " 6      17678\n",
       " 29     11696\n",
       " 3       8580\n",
       " 19      8212\n",
       " 22      6741\n",
       " 9       4801\n",
       " 16      4563\n",
       " 27      4197\n",
       " 4       3834\n",
       " 24      1822\n",
       " 12      1121\n",
       " 7        931\n",
       " 14       493\n",
       " 18       491\n",
       " 23       320\n",
       " 32        46\n",
       " 8         30\n",
       " 17         4\n",
       " 13         2\n",
       "Name: bank_months_count, dtype: int64"
      ]
     },
     "execution_count": 10,
     "metadata": {},
     "output_type": "execute_result"
    }
   ],
   "source": [
    "df.bank_months_count.value_counts()"
   ]
  },
  {
   "cell_type": "code",
   "execution_count": 11,
   "metadata": {},
   "outputs": [],
   "source": [
    "df = df[df.bank_months_count != -1]"
   ]
  },
  {
   "attachments": {},
   "cell_type": "markdown",
   "metadata": {},
   "source": [
    "### Overview of the data\n",
    "\n",
    "I found the fraud data is too small that it can't even shown in plots"
   ]
  },
  {
   "cell_type": "code",
   "execution_count": null,
   "metadata": {},
   "outputs": [],
   "source": [
    "# Place holder for further work"
   ]
  },
  {
   "attachments": {},
   "cell_type": "markdown",
   "metadata": {},
   "source": [
    "### Data preparation\n",
    "\n",
    "Train test split using stratify and assigning Xs, ys."
   ]
  },
  {
   "cell_type": "code",
   "execution_count": 18,
   "metadata": {},
   "outputs": [],
   "source": [
    "from sklearn.model_selection import train_test_split"
   ]
  },
  {
   "cell_type": "code",
   "execution_count": 20,
   "metadata": {},
   "outputs": [],
   "source": [
    "X = df.drop(['fraud_bool'],axis=1)\n",
    "y = df.fraud_bool"
   ]
  },
  {
   "cell_type": "code",
   "execution_count": 22,
   "metadata": {},
   "outputs": [],
   "source": [
    "X_train, X_test, y_train, y_test = train_test_split(X, y, test_size=0.2, stratify=y)"
   ]
  }
 ],
 "metadata": {
  "kernelspec": {
   "display_name": "datasci507",
   "language": "python",
   "name": "python3"
  },
  "language_info": {
   "codemirror_mode": {
    "name": "ipython",
    "version": 3
   },
   "file_extension": ".py",
   "mimetype": "text/x-python",
   "name": "python",
   "nbconvert_exporter": "python",
   "pygments_lexer": "ipython3",
   "version": "3.8.15"
  },
  "orig_nbformat": 4
 },
 "nbformat": 4,
 "nbformat_minor": 2
}
